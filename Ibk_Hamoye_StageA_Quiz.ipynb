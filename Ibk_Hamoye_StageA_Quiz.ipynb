{
 "cells": [
  {
   "cell_type": "code",
   "execution_count": 33,
   "id": "4d09c3de-4a06-480c-a4d9-109f2ce68887",
   "metadata": {},
   "outputs": [
    {
     "data": {
      "text/html": [
       "<div>\n",
       "<style scoped>\n",
       "    .dataframe tbody tr th:only-of-type {\n",
       "        vertical-align: middle;\n",
       "    }\n",
       "\n",
       "    .dataframe tbody tr th {\n",
       "        vertical-align: top;\n",
       "    }\n",
       "\n",
       "    .dataframe thead th {\n",
       "        text-align: right;\n",
       "    }\n",
       "</style>\n",
       "<table border=\"1\" class=\"dataframe\">\n",
       "  <thead>\n",
       "    <tr style=\"text-align: right;\">\n",
       "      <th></th>\n",
       "      <th>Area Code</th>\n",
       "      <th>Area</th>\n",
       "      <th>Item Code</th>\n",
       "      <th>Item</th>\n",
       "      <th>Element Code</th>\n",
       "      <th>Element</th>\n",
       "      <th>Unit</th>\n",
       "      <th>Y2014</th>\n",
       "      <th>Y2015</th>\n",
       "      <th>Y2016</th>\n",
       "      <th>Y2017</th>\n",
       "      <th>Y2018</th>\n",
       "    </tr>\n",
       "  </thead>\n",
       "  <tbody>\n",
       "    <tr>\n",
       "      <th>0</th>\n",
       "      <td>4</td>\n",
       "      <td>Algeria</td>\n",
       "      <td>2501</td>\n",
       "      <td>Population</td>\n",
       "      <td>511</td>\n",
       "      <td>Total Population - Both sexes</td>\n",
       "      <td>1000 persons</td>\n",
       "      <td>38924.00</td>\n",
       "      <td>39728.00</td>\n",
       "      <td>40551.00</td>\n",
       "      <td>41389.00</td>\n",
       "      <td>42228.00</td>\n",
       "    </tr>\n",
       "    <tr>\n",
       "      <th>1</th>\n",
       "      <td>4</td>\n",
       "      <td>Algeria</td>\n",
       "      <td>2501</td>\n",
       "      <td>Population</td>\n",
       "      <td>5301</td>\n",
       "      <td>Domestic supply quantity</td>\n",
       "      <td>1000 tonnes</td>\n",
       "      <td>0.00</td>\n",
       "      <td>0.00</td>\n",
       "      <td>0.00</td>\n",
       "      <td>0.00</td>\n",
       "      <td>0.00</td>\n",
       "    </tr>\n",
       "    <tr>\n",
       "      <th>2</th>\n",
       "      <td>4</td>\n",
       "      <td>Algeria</td>\n",
       "      <td>2901</td>\n",
       "      <td>Grand Total</td>\n",
       "      <td>664</td>\n",
       "      <td>Food supply (kcal/capita/day)</td>\n",
       "      <td>kcal/capita/day</td>\n",
       "      <td>3377.00</td>\n",
       "      <td>3379.00</td>\n",
       "      <td>3372.00</td>\n",
       "      <td>3341.00</td>\n",
       "      <td>3322.00</td>\n",
       "    </tr>\n",
       "    <tr>\n",
       "      <th>3</th>\n",
       "      <td>4</td>\n",
       "      <td>Algeria</td>\n",
       "      <td>2901</td>\n",
       "      <td>Grand Total</td>\n",
       "      <td>674</td>\n",
       "      <td>Protein supply quantity (g/capita/day)</td>\n",
       "      <td>g/capita/day</td>\n",
       "      <td>94.90</td>\n",
       "      <td>94.35</td>\n",
       "      <td>94.72</td>\n",
       "      <td>92.82</td>\n",
       "      <td>91.83</td>\n",
       "    </tr>\n",
       "    <tr>\n",
       "      <th>4</th>\n",
       "      <td>4</td>\n",
       "      <td>Algeria</td>\n",
       "      <td>2901</td>\n",
       "      <td>Grand Total</td>\n",
       "      <td>684</td>\n",
       "      <td>Fat supply quantity (g/capita/day)</td>\n",
       "      <td>g/capita/day</td>\n",
       "      <td>80.06</td>\n",
       "      <td>79.36</td>\n",
       "      <td>77.40</td>\n",
       "      <td>80.19</td>\n",
       "      <td>77.28</td>\n",
       "    </tr>\n",
       "  </tbody>\n",
       "</table>\n",
       "</div>"
      ],
      "text/plain": [
       "   Area Code     Area  Item Code         Item  Element Code  \\\n",
       "0          4  Algeria       2501   Population           511   \n",
       "1          4  Algeria       2501   Population          5301   \n",
       "2          4  Algeria       2901  Grand Total           664   \n",
       "3          4  Algeria       2901  Grand Total           674   \n",
       "4          4  Algeria       2901  Grand Total           684   \n",
       "\n",
       "                                  Element             Unit     Y2014  \\\n",
       "0           Total Population - Both sexes     1000 persons  38924.00   \n",
       "1                Domestic supply quantity      1000 tonnes      0.00   \n",
       "2           Food supply (kcal/capita/day)  kcal/capita/day   3377.00   \n",
       "3  Protein supply quantity (g/capita/day)     g/capita/day     94.90   \n",
       "4      Fat supply quantity (g/capita/day)     g/capita/day     80.06   \n",
       "\n",
       "      Y2015     Y2016     Y2017     Y2018  \n",
       "0  39728.00  40551.00  41389.00  42228.00  \n",
       "1      0.00      0.00      0.00      0.00  \n",
       "2   3379.00   3372.00   3341.00   3322.00  \n",
       "3     94.35     94.72     92.82     91.83  \n",
       "4     79.36     77.40     80.19     77.28  "
      ]
     },
     "execution_count": 33,
     "metadata": {},
     "output_type": "execute_result"
    }
   ],
   "source": [
    "#import the dataset for the quiz and inspect the data\n",
    "import pandas as pd\n",
    "\n",
    "fao = pd.read_csv(\"FoodBalanceSheets.csv\", encoding = \"latin-1\")\n",
    "fao.head()"
   ]
  },
  {
   "cell_type": "code",
   "execution_count": 53,
   "id": "cf0a7985-bbe3-4881-aac5-23a829548b0c",
   "metadata": {},
   "outputs": [
    {
     "data": {
      "text/html": [
       "<div>\n",
       "<style scoped>\n",
       "    .dataframe tbody tr th:only-of-type {\n",
       "        vertical-align: middle;\n",
       "    }\n",
       "\n",
       "    .dataframe tbody tr th {\n",
       "        vertical-align: top;\n",
       "    }\n",
       "\n",
       "    .dataframe thead th {\n",
       "        text-align: right;\n",
       "    }\n",
       "</style>\n",
       "<table border=\"1\" class=\"dataframe\">\n",
       "  <thead>\n",
       "    <tr style=\"text-align: right;\">\n",
       "      <th></th>\n",
       "      <th>Area_code</th>\n",
       "      <th>Area</th>\n",
       "      <th>Item_code</th>\n",
       "      <th>Item</th>\n",
       "      <th>Element_code</th>\n",
       "      <th>Element</th>\n",
       "      <th>Unit</th>\n",
       "      <th>Y2014</th>\n",
       "      <th>Y2015</th>\n",
       "      <th>Y2016</th>\n",
       "      <th>Y2017</th>\n",
       "      <th>Y2018</th>\n",
       "    </tr>\n",
       "  </thead>\n",
       "  <tbody>\n",
       "    <tr>\n",
       "      <th>0</th>\n",
       "      <td>4</td>\n",
       "      <td>Algeria</td>\n",
       "      <td>2501</td>\n",
       "      <td>Population</td>\n",
       "      <td>511</td>\n",
       "      <td>Total Population - Both sexes</td>\n",
       "      <td>1000 persons</td>\n",
       "      <td>38924.00</td>\n",
       "      <td>39728.00</td>\n",
       "      <td>40551.00</td>\n",
       "      <td>41389.00</td>\n",
       "      <td>42228.00</td>\n",
       "    </tr>\n",
       "    <tr>\n",
       "      <th>1</th>\n",
       "      <td>4</td>\n",
       "      <td>Algeria</td>\n",
       "      <td>2501</td>\n",
       "      <td>Population</td>\n",
       "      <td>5301</td>\n",
       "      <td>Domestic supply quantity</td>\n",
       "      <td>1000 tonnes</td>\n",
       "      <td>0.00</td>\n",
       "      <td>0.00</td>\n",
       "      <td>0.00</td>\n",
       "      <td>0.00</td>\n",
       "      <td>0.00</td>\n",
       "    </tr>\n",
       "    <tr>\n",
       "      <th>2</th>\n",
       "      <td>4</td>\n",
       "      <td>Algeria</td>\n",
       "      <td>2901</td>\n",
       "      <td>Grand Total</td>\n",
       "      <td>664</td>\n",
       "      <td>Food supply (kcal/capita/day)</td>\n",
       "      <td>kcal/capita/day</td>\n",
       "      <td>3377.00</td>\n",
       "      <td>3379.00</td>\n",
       "      <td>3372.00</td>\n",
       "      <td>3341.00</td>\n",
       "      <td>3322.00</td>\n",
       "    </tr>\n",
       "    <tr>\n",
       "      <th>3</th>\n",
       "      <td>4</td>\n",
       "      <td>Algeria</td>\n",
       "      <td>2901</td>\n",
       "      <td>Grand Total</td>\n",
       "      <td>674</td>\n",
       "      <td>Protein supply quantity (g/capita/day)</td>\n",
       "      <td>g/capita/day</td>\n",
       "      <td>94.90</td>\n",
       "      <td>94.35</td>\n",
       "      <td>94.72</td>\n",
       "      <td>92.82</td>\n",
       "      <td>91.83</td>\n",
       "    </tr>\n",
       "    <tr>\n",
       "      <th>4</th>\n",
       "      <td>4</td>\n",
       "      <td>Algeria</td>\n",
       "      <td>2901</td>\n",
       "      <td>Grand Total</td>\n",
       "      <td>684</td>\n",
       "      <td>Fat supply quantity (g/capita/day)</td>\n",
       "      <td>g/capita/day</td>\n",
       "      <td>80.06</td>\n",
       "      <td>79.36</td>\n",
       "      <td>77.40</td>\n",
       "      <td>80.19</td>\n",
       "      <td>77.28</td>\n",
       "    </tr>\n",
       "  </tbody>\n",
       "</table>\n",
       "</div>"
      ],
      "text/plain": [
       "   Area_code     Area  Item_code         Item  Element_code  \\\n",
       "0          4  Algeria       2501   Population           511   \n",
       "1          4  Algeria       2501   Population          5301   \n",
       "2          4  Algeria       2901  Grand Total           664   \n",
       "3          4  Algeria       2901  Grand Total           674   \n",
       "4          4  Algeria       2901  Grand Total           684   \n",
       "\n",
       "                                  Element             Unit     Y2014  \\\n",
       "0           Total Population - Both sexes     1000 persons  38924.00   \n",
       "1                Domestic supply quantity      1000 tonnes      0.00   \n",
       "2           Food supply (kcal/capita/day)  kcal/capita/day   3377.00   \n",
       "3  Protein supply quantity (g/capita/day)     g/capita/day     94.90   \n",
       "4      Fat supply quantity (g/capita/day)     g/capita/day     80.06   \n",
       "\n",
       "      Y2015     Y2016     Y2017     Y2018  \n",
       "0  39728.00  40551.00  41389.00  42228.00  \n",
       "1      0.00      0.00      0.00      0.00  \n",
       "2   3379.00   3372.00   3341.00   3322.00  \n",
       "3     94.35     94.72     92.82     91.83  \n",
       "4     79.36     77.40     80.19     77.28  "
      ]
     },
     "execution_count": 53,
     "metadata": {},
     "output_type": "execute_result"
    }
   ],
   "source": [
    "#rename the column names that have spaces with underscores to make calling columns easy\n",
    "#df.rename(columns={'old_name': 'new_name'}, inplace=True)\n",
    "fao.rename(columns= {\"Element Code\": \"Element_code\"}, inplace=True)\n",
    "fao.rename(columns= {\"Item Code\": \"Item_code\"}, inplace=True)\n",
    "fao.rename(columns= {\"Area Code\": \"Area_code\"}, inplace=True)\n",
    "fao.head()"
   ]
  },
  {
   "cell_type": "markdown",
   "id": "27d900af-8566-4dbe-aa58-17a2643d526a",
   "metadata": {},
   "source": [
    "**Question 1:** What is the total Protein supply quantity in Madagascar in 2015?"
   ]
  },
  {
   "cell_type": "code",
   "execution_count": 40,
   "id": "b619e73d-6540-4635-aa1d-be974d02204a",
   "metadata": {},
   "outputs": [
    {
     "data": {
      "text/html": [
       "<div>\n",
       "<style scoped>\n",
       "    .dataframe tbody tr th:only-of-type {\n",
       "        vertical-align: middle;\n",
       "    }\n",
       "\n",
       "    .dataframe tbody tr th {\n",
       "        vertical-align: top;\n",
       "    }\n",
       "\n",
       "    .dataframe thead th {\n",
       "        text-align: right;\n",
       "    }\n",
       "</style>\n",
       "<table border=\"1\" class=\"dataframe\">\n",
       "  <thead>\n",
       "    <tr style=\"text-align: right;\">\n",
       "      <th></th>\n",
       "      <th>Y2015</th>\n",
       "    </tr>\n",
       "    <tr>\n",
       "      <th>Element</th>\n",
       "      <th></th>\n",
       "    </tr>\n",
       "  </thead>\n",
       "  <tbody>\n",
       "    <tr>\n",
       "      <th>Domestic supply quantity</th>\n",
       "      <td>31214.98</td>\n",
       "    </tr>\n",
       "    <tr>\n",
       "      <th>Export Quantity</th>\n",
       "      <td>494.75</td>\n",
       "    </tr>\n",
       "    <tr>\n",
       "      <th>Fat supply quantity (g/capita/day)</th>\n",
       "      <td>91.85</td>\n",
       "    </tr>\n",
       "    <tr>\n",
       "      <th>Feed</th>\n",
       "      <td>2070.22</td>\n",
       "    </tr>\n",
       "    <tr>\n",
       "      <th>Food</th>\n",
       "      <td>21120.65</td>\n",
       "    </tr>\n",
       "    <tr>\n",
       "      <th>Food supply (kcal/capita/day)</th>\n",
       "      <td>7685.00</td>\n",
       "    </tr>\n",
       "    <tr>\n",
       "      <th>Food supply quantity (kg/capita/yr)</th>\n",
       "      <td>871.59</td>\n",
       "    </tr>\n",
       "    <tr>\n",
       "      <th>Import Quantity</th>\n",
       "      <td>1721.80</td>\n",
       "    </tr>\n",
       "    <tr>\n",
       "      <th>Losses</th>\n",
       "      <td>2176.00</td>\n",
       "    </tr>\n",
       "    <tr>\n",
       "      <th>Other uses (non-food)</th>\n",
       "      <td>3957.12</td>\n",
       "    </tr>\n",
       "    <tr>\n",
       "      <th>Processing</th>\n",
       "      <td>1803.00</td>\n",
       "    </tr>\n",
       "    <tr>\n",
       "      <th>Production</th>\n",
       "      <td>29482.89</td>\n",
       "    </tr>\n",
       "    <tr>\n",
       "      <th>Protein supply quantity (g/capita/day)</th>\n",
       "      <td>173.05</td>\n",
       "    </tr>\n",
       "    <tr>\n",
       "      <th>Residuals</th>\n",
       "      <td>-616.00</td>\n",
       "    </tr>\n",
       "    <tr>\n",
       "      <th>Seed</th>\n",
       "      <td>699.00</td>\n",
       "    </tr>\n",
       "    <tr>\n",
       "      <th>Stock Variation</th>\n",
       "      <td>-505.00</td>\n",
       "    </tr>\n",
       "    <tr>\n",
       "      <th>Total Population - Both sexes</th>\n",
       "      <td>24234.00</td>\n",
       "    </tr>\n",
       "  </tbody>\n",
       "</table>\n",
       "</div>"
      ],
      "text/plain": [
       "                                           Y2015\n",
       "Element                                         \n",
       "Domestic supply quantity                31214.98\n",
       "Export Quantity                           494.75\n",
       "Fat supply quantity (g/capita/day)         91.85\n",
       "Feed                                     2070.22\n",
       "Food                                    21120.65\n",
       "Food supply (kcal/capita/day)            7685.00\n",
       "Food supply quantity (kg/capita/yr)       871.59\n",
       "Import Quantity                          1721.80\n",
       "Losses                                   2176.00\n",
       "Other uses (non-food)                    3957.12\n",
       "Processing                               1803.00\n",
       "Production                              29482.89\n",
       "Protein supply quantity (g/capita/day)    173.05\n",
       "Residuals                                -616.00\n",
       "Seed                                      699.00\n",
       "Stock Variation                          -505.00\n",
       "Total Population - Both sexes           24234.00"
      ]
     },
     "execution_count": 40,
     "metadata": {},
     "output_type": "execute_result"
    }
   ],
   "source": [
    "#1st, set the index at Madagascar and group all the elements in the year 2015`\n",
    "protein_madagascar_2015 = fao.set_index('Area').loc['Madagascar'].groupby('Element')[[\"Y2015\"]].sum()\n",
    "protein_madagascar_2015"
   ]
  },
  {
   "cell_type": "code",
   "execution_count": 42,
   "id": "842bcf92-4a98-4281-8df3-b803c5c585c4",
   "metadata": {},
   "outputs": [
    {
     "data": {
      "text/plain": [
       "Y2015    173.05\n",
       "Name: Protein supply quantity (g/capita/day), dtype: float64"
      ]
     },
     "execution_count": 42,
     "metadata": {},
     "output_type": "execute_result"
    }
   ],
   "source": [
    "#2nd step, identify the value at Protein supply quantity (g/capita/day)\n",
    "protein_madagascar_2015.loc[\"Protein supply quantity (g/capita/day)\"]"
   ]
  },
  {
   "cell_type": "markdown",
   "id": "c0817f9b-100a-4c8b-b275-41b5d5c0da03",
   "metadata": {},
   "source": [
    "**Answer 1 = 173.05**"
   ]
  },
  {
   "cell_type": "markdown",
   "id": "d3bebe29-e658-4816-924d-717bd3cf2da3",
   "metadata": {},
   "source": [
    "**Question 2:** Perform a groupby operation on ‘Element’.  What year has the highest sum of Stock Variation?"
   ]
  },
  {
   "cell_type": "code",
   "execution_count": 45,
   "id": "63664574-6cce-495f-bc08-e570c8ff9469",
   "metadata": {},
   "outputs": [
    {
     "data": {
      "text/html": [
       "<div>\n",
       "<style scoped>\n",
       "    .dataframe tbody tr th:only-of-type {\n",
       "        vertical-align: middle;\n",
       "    }\n",
       "\n",
       "    .dataframe tbody tr th {\n",
       "        vertical-align: top;\n",
       "    }\n",
       "\n",
       "    .dataframe thead th {\n",
       "        text-align: right;\n",
       "    }\n",
       "</style>\n",
       "<table border=\"1\" class=\"dataframe\">\n",
       "  <thead>\n",
       "    <tr style=\"text-align: right;\">\n",
       "      <th></th>\n",
       "      <th>Y2014</th>\n",
       "      <th>Y2015</th>\n",
       "      <th>Y2016</th>\n",
       "      <th>Y2017</th>\n",
       "      <th>Y2018</th>\n",
       "    </tr>\n",
       "    <tr>\n",
       "      <th>Element</th>\n",
       "      <th></th>\n",
       "      <th></th>\n",
       "      <th></th>\n",
       "      <th></th>\n",
       "      <th></th>\n",
       "    </tr>\n",
       "  </thead>\n",
       "  <tbody>\n",
       "    <tr>\n",
       "      <th>Stock Variation</th>\n",
       "      <td>58749.83</td>\n",
       "      <td>34910.99</td>\n",
       "      <td>33140.12</td>\n",
       "      <td>54316.91</td>\n",
       "      <td>20577.91</td>\n",
       "    </tr>\n",
       "  </tbody>\n",
       "</table>\n",
       "</div>"
      ],
      "text/plain": [
       "                    Y2014     Y2015     Y2016     Y2017     Y2018\n",
       "Element                                                          \n",
       "Stock Variation  58749.83  34910.99  33140.12  54316.91  20577.91"
      ]
     },
     "execution_count": 45,
     "metadata": {},
     "output_type": "execute_result"
    }
   ],
   "source": [
    "# Set the index of the DataFrame fao to 'Element' and select rows where the index is 'Stock Variation'\n",
    "# Group the selected rows by 'Element' and sum the values of the columns 'Y2014', 'Y2015', 'Y2016', 'Y2017', and 'Y2018'\n",
    "# Stack the resulting DataFrame to reshape it from wide to long format\n",
    "# Sort the values in ascending order\n",
    "\n",
    "stock_variation = fao.set_index('Element').loc['Stock Variation'].groupby('Element')[[\"Y2014\", \"Y2015\", \"Y2016\", \"Y2017\", \"Y2018\"]].sum()\n",
    "stock_variation"
   ]
  },
  {
   "cell_type": "code",
   "execution_count": 46,
   "id": "4ac0a6fc-723b-4c1e-9e6c-3bffd927d951",
   "metadata": {},
   "outputs": [
    {
     "data": {
      "text/plain": [
       "Element               \n",
       "Stock Variation  Y2014    58749.83\n",
       "                 Y2017    54316.91\n",
       "                 Y2015    34910.99\n",
       "                 Y2016    33140.12\n",
       "                 Y2018    20577.91\n",
       "dtype: float64"
      ]
     },
     "execution_count": 46,
     "metadata": {},
     "output_type": "execute_result"
    }
   ],
   "source": [
    "# Stack the resulting DataFrame, stock_variation to reshape it from a wide to long format\n",
    "# Sort the values in ascending order\n",
    "stock_variation.stack().sort_values(ascending=False)"
   ]
  },
  {
   "cell_type": "markdown",
   "id": "89929dfc-6f7f-47b4-8a3d-9415563852c8",
   "metadata": {},
   "source": [
    "**Answer 2: The year with the highest sum of Stock Variation= Y2014**"
   ]
  },
  {
   "cell_type": "markdown",
   "id": "a54a1dec-3bb6-4001-be8a-cdb6d3897f8e",
   "metadata": {},
   "source": [
    "**Question 3:** How would you check for the number of rows and columns in a pandas DataFrame named df?"
   ]
  },
  {
   "cell_type": "code",
   "execution_count": 6,
   "id": "e33ca7c8-4d5a-469d-8ca3-cee100ded156",
   "metadata": {},
   "outputs": [
    {
     "data": {
      "text/plain": [
       "(60943, 12)"
      ]
     },
     "execution_count": 6,
     "metadata": {},
     "output_type": "execute_result"
    }
   ],
   "source": [
    "fao.shape"
   ]
  },
  {
   "cell_type": "markdown",
   "id": "b353f329-56cc-4874-a580-786eecc2726d",
   "metadata": {},
   "source": [
    "**Answer 3: df.shape**"
   ]
  },
  {
   "cell_type": "markdown",
   "id": "5a077310-6170-4cd4-99e5-4ccc28c7b733",
   "metadata": {},
   "source": [
    "**Question 4:** Which year had the least correlation with ‘Element Code’?"
   ]
  },
  {
   "cell_type": "code",
   "execution_count": 57,
   "id": "135de015-e2d5-47fb-a375-3c4b4d8b45bf",
   "metadata": {},
   "outputs": [],
   "source": [
    "#running the code below throws an error\n",
    "#code: fao.corr()['Element Code'].sort_values(ascending=False)\n",
    "#error: ValueError: could not convert string to float: 'Algeria'"
   ]
  },
  {
   "cell_type": "code",
   "execution_count": 68,
   "id": "8473901d-d66c-4b86-a19d-d5330f4fc582",
   "metadata": {},
   "outputs": [
    {
     "data": {
      "text/plain": [
       "Area_code      -0.000209\n",
       "Item_code      -0.024683\n",
       "Element_code    1.000000\n",
       "Y2014           0.024457\n",
       "Y2015           0.023889\n",
       "Y2016           0.023444\n",
       "Y2017           0.024254\n",
       "Y2018           0.024279\n",
       "dtype: float64"
      ]
     },
     "execution_count": 68,
     "metadata": {},
     "output_type": "execute_result"
    }
   ],
   "source": [
    "#Select only numeric columns from the DataFrame\n",
    "numeric_columns = fao.select_dtypes(include='number')\n",
    "\n",
    "# Calculate the correlation between 'Element Code' and each numeric column\n",
    "corr_element_code = numeric_columns.corrwith(fao['Element_code'])\n",
    "corr_element_code"
   ]
  },
  {
   "cell_type": "code",
   "execution_count": 70,
   "id": "e9068f22-fda4-427e-b7a5-6e830d6ed99c",
   "metadata": {},
   "outputs": [
    {
     "data": {
      "text/plain": [
       "Item_code      -0.024683\n",
       "Area_code      -0.000209\n",
       "Y2016           0.023444\n",
       "Y2015           0.023889\n",
       "Y2017           0.024254\n",
       "Y2018           0.024279\n",
       "Y2014           0.024457\n",
       "Element_code    1.000000\n",
       "dtype: float64"
      ]
     },
     "execution_count": 70,
     "metadata": {},
     "output_type": "execute_result"
    }
   ],
   "source": [
    "# sort values to see which year ranks least\n",
    "sorted_corr_element_code = corr_element_code.sort_values()\n",
    "sorted_corr_element_code"
   ]
  },
  {
   "cell_type": "markdown",
   "id": "dc79b379-b1a2-4c72-9ecb-e4d86c82ab1b",
   "metadata": {},
   "source": [
    "**Answer 4: The year with the least correlation with ‘Element Code’ = Y2016**"
   ]
  },
  {
   "cell_type": "markdown",
   "id": "d77f411d-559a-44e1-a047-2a53600e3c2d",
   "metadata": {},
   "source": [
    "**Question 5:**\n",
    "Given the following numpy array \n",
    "\n",
    "array  = ([[94, 89, 63],\n",
    "\n",
    "             [93, 92, 48],\n",
    "\n",
    "             [92, 94, 56]])\n",
    "\n",
    "How would you select  the elements in bold and italics from the array?"
   ]
  },
  {
   "cell_type": "code",
   "execution_count": 75,
   "id": "d6f974f2-80f0-4f65-9e5c-874d72f4c291",
   "metadata": {},
   "outputs": [
    {
     "data": {
      "text/plain": [
       "array([[94, 89, 63],\n",
       "       [93, 92, 48],\n",
       "       [92, 94, 56]])"
      ]
     },
     "execution_count": 75,
     "metadata": {},
     "output_type": "execute_result"
    }
   ],
   "source": [
    "#print the array\n",
    "\n",
    "import numpy as np\n",
    "array = np.array([[94, 89, 63], [93, 92, 48], [92, 94, 56]])\n",
    "array"
   ]
  },
  {
   "cell_type": "code",
   "execution_count": 83,
   "id": "1f8d8108-c7af-4ae5-a8ee-4e9166c94188",
   "metadata": {},
   "outputs": [
    {
     "data": {
      "text/plain": [
       "array([[89, 63],\n",
       "       [92, 48]])"
      ]
     },
     "execution_count": 83,
     "metadata": {},
     "output_type": "execute_result"
    }
   ],
   "source": [
    "# Select a subset of the array consisting of the first two rows (exclusive of the third row)\n",
    "# and columns starting from the second column (inclusive of the second column) to the last column\n",
    "\n",
    "array[ : 2, 1 : ] "
   ]
  },
  {
   "cell_type": "markdown",
   "id": "b78b7709-9697-458a-b843-c37839ddc728",
   "metadata": {},
   "source": [
    "**Answer 5: array[ : 2, 1 : ]**"
   ]
  },
  {
   "cell_type": "markdown",
   "id": "cd075e35-5be8-4d26-8448-05e00c4526e3",
   "metadata": {},
   "source": [
    "**Question 6:**\n",
    "Consider the following list of tuples:\n",
    "\n",
    "y = [(2, 4), (7, 8), (1, 5, 9)]\n",
    "\n",
    "How would you assign element 8 from the list to a variable x?"
   ]
  },
  {
   "cell_type": "code",
   "execution_count": 87,
   "id": "bbba88b8-e2ef-4a80-b953-9d8c73f38976",
   "metadata": {},
   "outputs": [
    {
     "data": {
      "text/plain": [
       "8"
      ]
     },
     "execution_count": 87,
     "metadata": {},
     "output_type": "execute_result"
    }
   ],
   "source": [
    "#indexing starts at 0, so you need the 2nd tuple [1] and the second element in the second tuple, index 1\n",
    "y = [(2, 4), (7, 8), (1, 5, 9)]\n",
    "x = y[1] [1]\n",
    "x"
   ]
  },
  {
   "cell_type": "markdown",
   "id": "46f53189-c50e-424a-93cb-86852c0b5bc3",
   "metadata": {},
   "source": [
    "**Answer 6: 8**"
   ]
  },
  {
   "cell_type": "markdown",
   "id": "5d429fcb-553a-4420-9348-dd01a8c8ba16",
   "metadata": {},
   "source": [
    "**Question 7:**\n",
    "What would be the output for?\n",
    "\n",
    "S = [['him', 'sell'], [90, 28, 43]]\n",
    "\n",
    "S[0][1][1]"
   ]
  },
  {
   "cell_type": "code",
   "execution_count": 89,
   "id": "a115bff8-33a6-4aeb-84ee-9d64c5762d26",
   "metadata": {},
   "outputs": [
    {
     "data": {
      "text/plain": [
       "'e'"
      ]
     },
     "execution_count": 89,
     "metadata": {},
     "output_type": "execute_result"
    }
   ],
   "source": [
    "S = [['him', 'sell'], [90, 28, 43]]\n",
    "\n",
    "S[0][1][1]"
   ]
  },
  {
   "cell_type": "markdown",
   "id": "c7494a11-0d49-4ae8-b32e-9e7b9570921c",
   "metadata": {},
   "source": [
    "**Answer 7: 'e'**"
   ]
  },
  {
   "cell_type": "markdown",
   "id": "5958fe57-e280-4cc1-a7b4-7b78c3ae2700",
   "metadata": {},
   "source": [
    "**Question 8:** Which of these python data structures is unorderly? Set, List, Dictionary, Tuple"
   ]
  },
  {
   "cell_type": "markdown",
   "id": "77ad3b80-87af-4d1c-bae5-340f91245826",
   "metadata": {},
   "source": [
    "**Answer 8: Set and Dictionary**\n",
    "\n",
    "A set is an unordered collection with no duplicate elements.\n",
    "A dictionary in Python is unordered and mutable."
   ]
  },
  {
   "cell_type": "markdown",
   "id": "c386f4e6-eb5d-429d-a2e6-f4843114acba",
   "metadata": {},
   "source": [
    "**Question 9:**\n",
    "Select columns ‘Y2017’ and ‘Area’, Perform a groupby operation on ‘Area’.  Which of these Areas had the 7th lowest sum in 2017?"
   ]
  },
  {
   "cell_type": "code",
   "execution_count": 96,
   "id": "d35985cf-2524-4079-9a84-0d18a0bb662b",
   "metadata": {},
   "outputs": [
    {
     "data": {
      "text/html": [
       "<div>\n",
       "<style scoped>\n",
       "    .dataframe tbody tr th:only-of-type {\n",
       "        vertical-align: middle;\n",
       "    }\n",
       "\n",
       "    .dataframe tbody tr th {\n",
       "        vertical-align: top;\n",
       "    }\n",
       "\n",
       "    .dataframe thead th {\n",
       "        text-align: right;\n",
       "    }\n",
       "</style>\n",
       "<table border=\"1\" class=\"dataframe\">\n",
       "  <thead>\n",
       "    <tr style=\"text-align: right;\">\n",
       "      <th></th>\n",
       "      <th>Y2017</th>\n",
       "    </tr>\n",
       "    <tr>\n",
       "      <th>Area</th>\n",
       "      <th></th>\n",
       "    </tr>\n",
       "  </thead>\n",
       "  <tbody>\n",
       "    <tr>\n",
       "      <th>Sudan (former)</th>\n",
       "      <td>0.00</td>\n",
       "    </tr>\n",
       "    <tr>\n",
       "      <th>Ethiopia PDR</th>\n",
       "      <td>0.00</td>\n",
       "    </tr>\n",
       "    <tr>\n",
       "      <th>Comoros</th>\n",
       "      <td>59.84</td>\n",
       "    </tr>\n",
       "    <tr>\n",
       "      <th>Seychelles</th>\n",
       "      <td>442.34</td>\n",
       "    </tr>\n",
       "    <tr>\n",
       "      <th>Sao Tome and Principe</th>\n",
       "      <td>12662.63</td>\n",
       "    </tr>\n",
       "    <tr>\n",
       "      <th>Cabo Verde</th>\n",
       "      <td>14650.74</td>\n",
       "    </tr>\n",
       "    <tr>\n",
       "      <th>Guinea-Bissau</th>\n",
       "      <td>19102.77</td>\n",
       "    </tr>\n",
       "    <tr>\n",
       "      <th>Lesotho</th>\n",
       "      <td>21267.96</td>\n",
       "    </tr>\n",
       "    <tr>\n",
       "      <th>Botswana</th>\n",
       "      <td>22101.30</td>\n",
       "    </tr>\n",
       "    <tr>\n",
       "      <th>Djibouti</th>\n",
       "      <td>22729.91</td>\n",
       "    </tr>\n",
       "    <tr>\n",
       "      <th>Gambia</th>\n",
       "      <td>23154.18</td>\n",
       "    </tr>\n",
       "    <tr>\n",
       "      <th>Gabon</th>\n",
       "      <td>27979.64</td>\n",
       "    </tr>\n",
       "    <tr>\n",
       "      <th>Liberia</th>\n",
       "      <td>29342.20</td>\n",
       "    </tr>\n",
       "    <tr>\n",
       "      <th>Namibia</th>\n",
       "      <td>29874.89</td>\n",
       "    </tr>\n",
       "    <tr>\n",
       "      <th>Central African Republic</th>\n",
       "      <td>29937.00</td>\n",
       "    </tr>\n",
       "    <tr>\n",
       "      <th>Congo</th>\n",
       "      <td>41181.68</td>\n",
       "    </tr>\n",
       "    <tr>\n",
       "      <th>Togo</th>\n",
       "      <td>49841.88</td>\n",
       "    </tr>\n",
       "    <tr>\n",
       "      <th>Mauritius</th>\n",
       "      <td>51114.83</td>\n",
       "    </tr>\n",
       "    <tr>\n",
       "      <th>Eswatini</th>\n",
       "      <td>54343.33</td>\n",
       "    </tr>\n",
       "    <tr>\n",
       "      <th>Sierra Leone</th>\n",
       "      <td>55311.33</td>\n",
       "    </tr>\n",
       "    <tr>\n",
       "      <th>Chad</th>\n",
       "      <td>71594.68</td>\n",
       "    </tr>\n",
       "    <tr>\n",
       "      <th>Rwanda</th>\n",
       "      <td>73663.69</td>\n",
       "    </tr>\n",
       "    <tr>\n",
       "      <th>Zimbabwe</th>\n",
       "      <td>75919.34</td>\n",
       "    </tr>\n",
       "    <tr>\n",
       "      <th>Senegal</th>\n",
       "      <td>95681.15</td>\n",
       "    </tr>\n",
       "    <tr>\n",
       "      <th>Guinea</th>\n",
       "      <td>98138.87</td>\n",
       "    </tr>\n",
       "    <tr>\n",
       "      <th>Burkina Faso</th>\n",
       "      <td>101855.07</td>\n",
       "    </tr>\n",
       "    <tr>\n",
       "      <th>Zambia</th>\n",
       "      <td>103223.77</td>\n",
       "    </tr>\n",
       "    <tr>\n",
       "      <th>Tunisia</th>\n",
       "      <td>124167.20</td>\n",
       "    </tr>\n",
       "    <tr>\n",
       "      <th>Benin</th>\n",
       "      <td>124771.22</td>\n",
       "    </tr>\n",
       "    <tr>\n",
       "      <th>Niger</th>\n",
       "      <td>126707.58</td>\n",
       "    </tr>\n",
       "    <tr>\n",
       "      <th>Madagascar</th>\n",
       "      <td>131197.73</td>\n",
       "    </tr>\n",
       "    <tr>\n",
       "      <th>Mali</th>\n",
       "      <td>149928.33</td>\n",
       "    </tr>\n",
       "    <tr>\n",
       "      <th>Mauritania</th>\n",
       "      <td>156665.46</td>\n",
       "    </tr>\n",
       "    <tr>\n",
       "      <th>Mozambique</th>\n",
       "      <td>161407.98</td>\n",
       "    </tr>\n",
       "    <tr>\n",
       "      <th>Malawi</th>\n",
       "      <td>181098.71</td>\n",
       "    </tr>\n",
       "    <tr>\n",
       "      <th>Uganda</th>\n",
       "      <td>213950.38</td>\n",
       "    </tr>\n",
       "    <tr>\n",
       "      <th>Côte d'Ivoire</th>\n",
       "      <td>224599.01</td>\n",
       "    </tr>\n",
       "    <tr>\n",
       "      <th>Angola</th>\n",
       "      <td>229159.57</td>\n",
       "    </tr>\n",
       "    <tr>\n",
       "      <th>Cameroon</th>\n",
       "      <td>232030.43</td>\n",
       "    </tr>\n",
       "    <tr>\n",
       "      <th>Sudan</th>\n",
       "      <td>239931.92</td>\n",
       "    </tr>\n",
       "    <tr>\n",
       "      <th>Kenya</th>\n",
       "      <td>264660.66</td>\n",
       "    </tr>\n",
       "    <tr>\n",
       "      <th>United Republic of Tanzania</th>\n",
       "      <td>322616.85</td>\n",
       "    </tr>\n",
       "    <tr>\n",
       "      <th>Algeria</th>\n",
       "      <td>325644.27</td>\n",
       "    </tr>\n",
       "    <tr>\n",
       "      <th>Ghana</th>\n",
       "      <td>337599.06</td>\n",
       "    </tr>\n",
       "    <tr>\n",
       "      <th>Morocco</th>\n",
       "      <td>388495.36</td>\n",
       "    </tr>\n",
       "    <tr>\n",
       "      <th>Ethiopia</th>\n",
       "      <td>448683.76</td>\n",
       "    </tr>\n",
       "    <tr>\n",
       "      <th>South Africa</th>\n",
       "      <td>517590.54</td>\n",
       "    </tr>\n",
       "    <tr>\n",
       "      <th>Egypt</th>\n",
       "      <td>866379.92</td>\n",
       "    </tr>\n",
       "    <tr>\n",
       "      <th>Nigeria</th>\n",
       "      <td>1483268.23</td>\n",
       "    </tr>\n",
       "  </tbody>\n",
       "</table>\n",
       "</div>"
      ],
      "text/plain": [
       "                                  Y2017\n",
       "Area                                   \n",
       "Sudan (former)                     0.00\n",
       "Ethiopia PDR                       0.00\n",
       "Comoros                           59.84\n",
       "Seychelles                       442.34\n",
       "Sao Tome and Principe          12662.63\n",
       "Cabo Verde                     14650.74\n",
       "Guinea-Bissau                  19102.77\n",
       "Lesotho                        21267.96\n",
       "Botswana                       22101.30\n",
       "Djibouti                       22729.91\n",
       "Gambia                         23154.18\n",
       "Gabon                          27979.64\n",
       "Liberia                        29342.20\n",
       "Namibia                        29874.89\n",
       "Central African Republic       29937.00\n",
       "Congo                          41181.68\n",
       "Togo                           49841.88\n",
       "Mauritius                      51114.83\n",
       "Eswatini                       54343.33\n",
       "Sierra Leone                   55311.33\n",
       "Chad                           71594.68\n",
       "Rwanda                         73663.69\n",
       "Zimbabwe                       75919.34\n",
       "Senegal                        95681.15\n",
       "Guinea                         98138.87\n",
       "Burkina Faso                  101855.07\n",
       "Zambia                        103223.77\n",
       "Tunisia                       124167.20\n",
       "Benin                         124771.22\n",
       "Niger                         126707.58\n",
       "Madagascar                    131197.73\n",
       "Mali                          149928.33\n",
       "Mauritania                    156665.46\n",
       "Mozambique                    161407.98\n",
       "Malawi                        181098.71\n",
       "Uganda                        213950.38\n",
       "Côte d'Ivoire                 224599.01\n",
       "Angola                        229159.57\n",
       "Cameroon                      232030.43\n",
       "Sudan                         239931.92\n",
       "Kenya                         264660.66\n",
       "United Republic of Tanzania   322616.85\n",
       "Algeria                       325644.27\n",
       "Ghana                         337599.06\n",
       "Morocco                       388495.36\n",
       "Ethiopia                      448683.76\n",
       "South Africa                  517590.54\n",
       "Egypt                         866379.92\n",
       "Nigeria                      1483268.23"
      ]
     },
     "execution_count": 96,
     "metadata": {},
     "output_type": "execute_result"
    }
   ],
   "source": [
    "# Set the index of the DataFrame 'fao' to 'Area' and group by 'Area'\n",
    "# Sum the values of the 'Y2017' column for each group\n",
    "# Sort the DataFrame by the sum of 'Y2017' values in ascending order\n",
    "fao_y2017_area = fao.set_index('Area').groupby('Area')[[\"Y2017\"]].sum().sort_values(by = \"Y2017\")\n",
    "fao_y2017_area"
   ]
  },
  {
   "cell_type": "code",
   "execution_count": 134,
   "id": "e4b6eb46-4ca3-4f75-9388-98762e387909",
   "metadata": {},
   "outputs": [
    {
     "data": {
      "text/plain": [
       "Y2017    19102.77\n",
       "Name: Guinea-Bissau, dtype: float64"
      ]
     },
     "execution_count": 134,
     "metadata": {},
     "output_type": "execute_result"
    }
   ],
   "source": [
    "#7th lowest will be at index 6, indexing starts at 0\n",
    "fao_y2017_area.iloc[6]"
   ]
  },
  {
   "cell_type": "markdown",
   "id": "3a3d6cdf-53bf-4a19-a166-aba4303cb2be",
   "metadata": {},
   "source": [
    "**Answer 9: Guinea-Bissau had the 7th lowest sum in 2017**"
   ]
  },
  {
   "cell_type": "markdown",
   "id": "0d229d23-7191-477b-86fb-92e654b08b54",
   "metadata": {},
   "source": [
    "**Question 10:**\n",
    "What is the mean and standard deviation across the whole dataset for the year 2017 to 2 decimal places?"
   ]
  },
  {
   "cell_type": "code",
   "execution_count": 104,
   "id": "8c2c3289-45cf-4b69-a691-17686f923e81",
   "metadata": {},
   "outputs": [
    {
     "data": {
      "text/plain": [
       "140.92"
      ]
     },
     "execution_count": 104,
     "metadata": {},
     "output_type": "execute_result"
    }
   ],
   "source": [
    "#mean\n",
    "fao_mean_2017 = fao.Y2017.mean().round(2)\n",
    "fao_mean_2017"
   ]
  },
  {
   "cell_type": "code",
   "execution_count": 105,
   "id": "467f28b6-cdfc-494b-997d-daff33f6479b",
   "metadata": {},
   "outputs": [
    {
     "data": {
      "text/plain": [
       "1671.86"
      ]
     },
     "execution_count": 105,
     "metadata": {},
     "output_type": "execute_result"
    }
   ],
   "source": [
    "#std\n",
    "round(fao.Y2017.std(),2)"
   ]
  },
  {
   "cell_type": "markdown",
   "id": "f5fe969c-4ff0-4afd-a5fb-ed4f731c50f5",
   "metadata": {},
   "source": [
    "**Answer 10: mean= 140.92, std= 1671.86**"
   ]
  },
  {
   "cell_type": "markdown",
   "id": "12a4eb52-493b-4438-8ada-4a53863bd857",
   "metadata": {},
   "source": [
    "**Question 11:** A pandas Dataframe with dimensions (100,3) has how many features and observations?"
   ]
  },
  {
   "cell_type": "markdown",
   "id": "520266c6-2cfb-4579-ad2e-7bcd6ec18c90",
   "metadata": {},
   "source": [
    "**Answer 11: 100 observations/rows, 3 features/columns**"
   ]
  },
  {
   "cell_type": "markdown",
   "id": "9f42b275-50f8-49c2-b40e-03387c5e0ba9",
   "metadata": {},
   "source": [
    "**Question 12**\n",
    "If you have the following list\n",
    "\n",
    "lst = [[35, 'Portugal', 94], [33, 'Argentina', 93], [30 , 'Brazil', 92]]\n",
    "\n",
    "col = [‘Age’,’Nationality’,’Overall’]"
   ]
  },
  {
   "cell_type": "code",
   "execution_count": 108,
   "id": "e5c7c97a-5a80-4e2b-9eff-e2ee63a397c0",
   "metadata": {},
   "outputs": [
    {
     "data": {
      "text/html": [
       "<div>\n",
       "<style scoped>\n",
       "    .dataframe tbody tr th:only-of-type {\n",
       "        vertical-align: middle;\n",
       "    }\n",
       "\n",
       "    .dataframe tbody tr th {\n",
       "        vertical-align: top;\n",
       "    }\n",
       "\n",
       "    .dataframe thead th {\n",
       "        text-align: right;\n",
       "    }\n",
       "</style>\n",
       "<table border=\"1\" class=\"dataframe\">\n",
       "  <thead>\n",
       "    <tr style=\"text-align: right;\">\n",
       "      <th></th>\n",
       "      <th>Age</th>\n",
       "      <th>Nationality</th>\n",
       "      <th>Overall</th>\n",
       "    </tr>\n",
       "  </thead>\n",
       "  <tbody>\n",
       "    <tr>\n",
       "      <th>1</th>\n",
       "      <td>35</td>\n",
       "      <td>Portugal</td>\n",
       "      <td>94</td>\n",
       "    </tr>\n",
       "    <tr>\n",
       "      <th>2</th>\n",
       "      <td>33</td>\n",
       "      <td>Argentina</td>\n",
       "      <td>93</td>\n",
       "    </tr>\n",
       "    <tr>\n",
       "      <th>3</th>\n",
       "      <td>30</td>\n",
       "      <td>Brazil</td>\n",
       "      <td>92</td>\n",
       "    </tr>\n",
       "  </tbody>\n",
       "</table>\n",
       "</div>"
      ],
      "text/plain": [
       "   Age Nationality  Overall\n",
       "1   35    Portugal       94\n",
       "2   33   Argentina       93\n",
       "3   30      Brazil       92"
      ]
     },
     "execution_count": 108,
     "metadata": {},
     "output_type": "execute_result"
    }
   ],
   "source": [
    "lst = [[35, 'Portugal', 94], [33, 'Argentina', 93], [30 , 'Brazil', 92]]\n",
    "\n",
    "col = [\"Age\",\"Nationality\",\"Overall\"]\n",
    "\n",
    "pd.DataFrame(lst, columns = col, index = [i for i in range(1,4)])\n"
   ]
  },
  {
   "cell_type": "markdown",
   "id": "0060ba71-7ddf-4c46-a5a9-ea03f0d31a0d",
   "metadata": {},
   "source": [
    "**Answer 12: pd.DataFrame(lst, columns = col, index = [i for i in range(1,4)])**\n",
    "N.B only that option correctly writes the attribute \"DataFrame\""
   ]
  },
  {
   "cell_type": "markdown",
   "id": "7714891b-9969-47ed-b803-ada2e6aec54f",
   "metadata": {},
   "source": [
    "**Question 13:** Which of the following is a python inbuilt module? Pandas, Matplotlib, Math, Seaborn"
   ]
  },
  {
   "cell_type": "markdown",
   "id": "4b74e21a-197e-4cd4-adb0-d2cf8d8a1072",
   "metadata": {},
   "source": [
    "**Answer 13: Math**\n",
    "\n",
    "Explanation:\n",
    "Pandas, Matplotlib, and Seaborn are third-party libraries in Python used for data manipulation, visualization, and statistical plotting.\n",
    "Math, on the other hand, is a built-in Python module that provides mathematical functions and constants."
   ]
  },
  {
   "cell_type": "markdown",
   "id": "f49767cd-a838-42e5-97d9-ad49b43a2c1f",
   "metadata": {},
   "source": [
    "**Question 14:**\n",
    "Given the following python code, what would the output of the code give?\n",
    "\n",
    "my_tuppy = (1,2,5,8)\n",
    "\n",
    "my_tuppy[2] = 6"
   ]
  },
  {
   "cell_type": "code",
   "execution_count": 24,
   "id": "bea40e97-c531-4665-8052-3f1c4710c46a",
   "metadata": {},
   "outputs": [
    {
     "ename": "TypeError",
     "evalue": "'tuple' object does not support item assignment",
     "output_type": "error",
     "traceback": [
      "\u001b[1;31m---------------------------------------------------------------------------\u001b[0m",
      "\u001b[1;31mTypeError\u001b[0m                                 Traceback (most recent call last)",
      "Cell \u001b[1;32mIn[24], line 3\u001b[0m\n\u001b[0;32m      1\u001b[0m my_tuppy \u001b[38;5;241m=\u001b[39m (\u001b[38;5;241m1\u001b[39m,\u001b[38;5;241m2\u001b[39m,\u001b[38;5;241m5\u001b[39m,\u001b[38;5;241m8\u001b[39m)\n\u001b[1;32m----> 3\u001b[0m my_tuppy[\u001b[38;5;241m2\u001b[39m] \u001b[38;5;241m=\u001b[39m \u001b[38;5;241m6\u001b[39m\n",
      "\u001b[1;31mTypeError\u001b[0m: 'tuple' object does not support item assignment"
     ]
    }
   ],
   "source": [
    "my_tuppy = (1,2,5,8)\n",
    "\n",
    "my_tuppy[2] = 6"
   ]
  },
  {
   "cell_type": "markdown",
   "id": "4811fe6f-7e01-4da2-a0e4-bb344d689c62",
   "metadata": {},
   "source": [
    "**Answer 14: Type Error**"
   ]
  },
  {
   "cell_type": "markdown",
   "id": "12c11f95-0362-4301-92a7-885eafd6b951",
   "metadata": {},
   "source": [
    "**Question 15:**\n",
    "Select columns ‘Y2017’ and ‘Area’, Perform a groupby operation on ‘Area’.  Which of these Areas had the highest sum in 2017?"
   ]
  },
  {
   "cell_type": "code",
   "execution_count": 125,
   "id": "a56bd659-1c3a-4f56-a5d9-6cef773b16de",
   "metadata": {},
   "outputs": [
    {
     "data": {
      "text/plain": [
       "Y2017    Nigeria\n",
       "dtype: object"
      ]
     },
     "execution_count": 125,
     "metadata": {},
     "output_type": "execute_result"
    }
   ],
   "source": [
    "# Set the index of the DataFrame 'fao' to 'Area' and group by 'Area'\n",
    "# Sum the values of the 'Y2017' column for each group\n",
    "# Sort the resulting DataFrame by the sum of 'Y2017' values in descending order\n",
    "# Find the index label corresponding to the maximum value in the sorted DataFrame\n",
    "\n",
    "fao.set_index('Area').groupby('Area')[[\"Y2017\"]].sum().sort_values(by = \"Y2017\", ascending = False).idxmax()"
   ]
  },
  {
   "cell_type": "markdown",
   "id": "f14c7f30-1bf1-49e5-b240-58aed5b632c9",
   "metadata": {},
   "source": [
    "**Answer 15: Area with the highest sum in 2017 = Nigeria**"
   ]
  },
  {
   "cell_type": "markdown",
   "id": "41f7ec0d-c3e5-44c3-91e1-0c9445b76f2d",
   "metadata": {},
   "source": [
    "**Question 16:** Which of the following dataframe methods can be used to access elements across rows and columns?"
   ]
  },
  {
   "cell_type": "markdown",
   "id": "977317bd-6306-4db1-b2d8-652b53fb8906",
   "metadata": {},
   "source": [
    "**Answer 16: df.iloc[ : ]**"
   ]
  },
  {
   "cell_type": "markdown",
   "id": "9787f45d-c30c-4e5f-bc51-d2e9fed5021a",
   "metadata": {},
   "source": [
    "**Question 17:** What is the total number of unique countries in the dataset?"
   ]
  },
  {
   "cell_type": "code",
   "execution_count": 27,
   "id": "f5f59268-c364-49c3-a957-fbed9c7256c6",
   "metadata": {},
   "outputs": [
    {
     "data": {
      "text/plain": [
       "49"
      ]
     },
     "execution_count": 27,
     "metadata": {},
     "output_type": "execute_result"
    }
   ],
   "source": [
    "# Count the number of unique values in the 'Area' column of the DataFrame 'fao'\n",
    "fao.Area.nunique()"
   ]
  },
  {
   "cell_type": "markdown",
   "id": "1c61c907-77ee-410c-a39a-a8236701cb8b",
   "metadata": {},
   "source": [
    "**Answer 17: Total number of unique countries in the dataset= 49**"
   ]
  },
  {
   "cell_type": "markdown",
   "id": "447a2145-e7cd-4757-8d5b-434c95a383cc",
   "metadata": {},
   "source": [
    "**Question 18:** What is the total number and percentage of missing data in 2014 to 3 decimal places?"
   ]
  },
  {
   "cell_type": "code",
   "execution_count": 114,
   "id": "f944c9e4-6838-4f22-b3ba-0c80d9bf9118",
   "metadata": {},
   "outputs": [
    {
     "data": {
      "text/plain": [
       "1589"
      ]
     },
     "execution_count": 114,
     "metadata": {},
     "output_type": "execute_result"
    }
   ],
   "source": [
    "#Total number of missing values\n",
    "#Check for missing values in the column 'Y2014' of the DataFrame 'fao' and sum the count of missing values\n",
    "\n",
    "null_2014 = fao.Y2014.isnull().sum()\n",
    "null_2014"
   ]
  },
  {
   "cell_type": "code",
   "execution_count": 113,
   "id": "8b56a411-faae-4455-b995-e79f4c236c7a",
   "metadata": {},
   "outputs": [
    {
     "data": {
      "text/plain": [
       "60943"
      ]
     },
     "execution_count": 113,
     "metadata": {},
     "output_type": "execute_result"
    }
   ],
   "source": [
    "# find the number of rows in the column 'Y2014' of the DataFrame 'fao'\n",
    "total_rows_2014 = fao.Y2014.shape[0]\n",
    "total_rows_2014"
   ]
  },
  {
   "cell_type": "code",
   "execution_count": 115,
   "id": "1599e029-429b-41c7-b8b2-cc3480fdc20d",
   "metadata": {},
   "outputs": [
    {
     "data": {
      "text/plain": [
       "2.607"
      ]
     },
     "execution_count": 115,
     "metadata": {},
     "output_type": "execute_result"
    }
   ],
   "source": [
    "#percentage of missing data in 2014 to 3 decimal places\n",
    "percentage_isnull_2014 = (null_2014/total_rows_2014)*100\n",
    "round(percentage_isnull_2014,3)"
   ]
  },
  {
   "cell_type": "markdown",
   "id": "7a48cfc9-4352-4efb-9535-637ae82ea7c1",
   "metadata": {},
   "source": [
    "**Answer 18: Total number of missing data = 1589, percentage of missing data in 2014 to 3 decimal places = 2.607**"
   ]
  },
  {
   "cell_type": "markdown",
   "id": "bf85c911-e9a0-4b8e-9cbf-b272e45a33e2",
   "metadata": {},
   "source": [
    "**Question 19:**\n",
    "Answer the following questions based on the African food production dataset provided by the FAO website already provided\n",
    "\n",
    "What is the total sum of Wine produced in 2015 and 2018 respectively?\n",
    "\n",
    "Hint:\n",
    "\n",
    "Perform a groupby sum aggregation on ‘Item’"
   ]
  },
  {
   "cell_type": "code",
   "execution_count": 31,
   "id": "e69beb39-0b18-4dbf-af02-28d0a66d7cc2",
   "metadata": {},
   "outputs": [
    {
     "data": {
      "text/html": [
       "<div>\n",
       "<style scoped>\n",
       "    .dataframe tbody tr th:only-of-type {\n",
       "        vertical-align: middle;\n",
       "    }\n",
       "\n",
       "    .dataframe tbody tr th {\n",
       "        vertical-align: top;\n",
       "    }\n",
       "\n",
       "    .dataframe thead th {\n",
       "        text-align: right;\n",
       "    }\n",
       "</style>\n",
       "<table border=\"1\" class=\"dataframe\">\n",
       "  <thead>\n",
       "    <tr style=\"text-align: right;\">\n",
       "      <th></th>\n",
       "      <th>Y2015</th>\n",
       "      <th>Y2018</th>\n",
       "    </tr>\n",
       "    <tr>\n",
       "      <th>Item</th>\n",
       "      <th></th>\n",
       "      <th></th>\n",
       "    </tr>\n",
       "  </thead>\n",
       "  <tbody>\n",
       "    <tr>\n",
       "      <th>Wine</th>\n",
       "      <td>4251.81</td>\n",
       "      <td>4039.32</td>\n",
       "    </tr>\n",
       "  </tbody>\n",
       "</table>\n",
       "</div>"
      ],
      "text/plain": [
       "        Y2015    Y2018\n",
       "Item                  \n",
       "Wine  4251.81  4039.32"
      ]
     },
     "execution_count": 31,
     "metadata": {},
     "output_type": "execute_result"
    }
   ],
   "source": [
    "# Set the index of the DataFrame 'fao' to 'Item' and select rows where the index is 'Wine'\n",
    "# Group the selected rows by 'Item' and sum the values of the columns 'Y2015' and 'Y2018'\n",
    "\n",
    "fao.set_index('Item').loc['Wine'].groupby('Item')[[\"Y2015\", \"Y2018\"]].sum()"
   ]
  },
  {
   "cell_type": "markdown",
   "id": "4d66b49d-13de-4556-91e1-43e1bd5f5546",
   "metadata": {},
   "source": [
    "**Answer 19: Total sum of Wine produced in 2015 = 4251.81 and 2018 = 4039.32**"
   ]
  },
  {
   "cell_type": "markdown",
   "id": "f63d7462-d665-424e-887b-b6faf90b613d",
   "metadata": {},
   "source": [
    "**Question 20:**\n",
    "Perform a groupby operation on ‘Element’.  What is the total number of the sum of Processing in 2017?"
   ]
  },
  {
   "cell_type": "code",
   "execution_count": 32,
   "id": "bcbc7b32-e540-4d97-9a80-3d8d68783099",
   "metadata": {},
   "outputs": [
    {
     "data": {
      "text/html": [
       "<div>\n",
       "<style scoped>\n",
       "    .dataframe tbody tr th:only-of-type {\n",
       "        vertical-align: middle;\n",
       "    }\n",
       "\n",
       "    .dataframe tbody tr th {\n",
       "        vertical-align: top;\n",
       "    }\n",
       "\n",
       "    .dataframe thead th {\n",
       "        text-align: right;\n",
       "    }\n",
       "</style>\n",
       "<table border=\"1\" class=\"dataframe\">\n",
       "  <thead>\n",
       "    <tr style=\"text-align: right;\">\n",
       "      <th></th>\n",
       "      <th>Y2017</th>\n",
       "    </tr>\n",
       "    <tr>\n",
       "      <th>Element</th>\n",
       "      <th></th>\n",
       "    </tr>\n",
       "  </thead>\n",
       "  <tbody>\n",
       "    <tr>\n",
       "      <th>Processing</th>\n",
       "      <td>292836.0</td>\n",
       "    </tr>\n",
       "  </tbody>\n",
       "</table>\n",
       "</div>"
      ],
      "text/plain": [
       "               Y2017\n",
       "Element             \n",
       "Processing  292836.0"
      ]
     },
     "execution_count": 32,
     "metadata": {},
     "output_type": "execute_result"
    }
   ],
   "source": [
    "# Set the index of the DataFrame 'fao' to 'Element' and select rows where the index is 'Processing'\n",
    "# Group the selected rows by 'Element' and sum the values of the column 'Y2017'\n",
    "\n",
    "fao.set_index('Element').loc['Processing'].groupby('Element')[[\"Y2017\"]].sum()"
   ]
  },
  {
   "cell_type": "markdown",
   "id": "f64daf69-3613-4e9e-805d-c9df7e6b0b54",
   "metadata": {},
   "source": [
    "**Answer 20: 292836.0**"
   ]
  },
  {
   "cell_type": "code",
   "execution_count": null,
   "id": "2028b61d-6d00-4b10-a088-bf8cceb6325b",
   "metadata": {},
   "outputs": [],
   "source": []
  }
 ],
 "metadata": {
  "kernelspec": {
   "display_name": "Python 3 (ipykernel)",
   "language": "python",
   "name": "python3"
  },
  "language_info": {
   "codemirror_mode": {
    "name": "ipython",
    "version": 3
   },
   "file_extension": ".py",
   "mimetype": "text/x-python",
   "name": "python",
   "nbconvert_exporter": "python",
   "pygments_lexer": "ipython3",
   "version": "3.11.7"
  }
 },
 "nbformat": 4,
 "nbformat_minor": 5
}
